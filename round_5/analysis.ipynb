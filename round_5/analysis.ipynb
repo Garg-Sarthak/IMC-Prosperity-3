{
 "cells": [
  {
   "cell_type": "code",
   "execution_count": null,
   "id": "841429eb",
   "metadata": {},
   "outputs": [
    {
     "name": "stdout",
     "output_type": "stream",
     "text": [
      "Collecting plotly\n",
      "  Downloading plotly-6.0.1-py3-none-any.whl.metadata (6.7 kB)\n",
      "Collecting narwhals>=1.15.1 (from plotly)\n",
      "  Downloading narwhals-1.35.0-py3-none-any.whl.metadata (9.2 kB)\n",
      "Requirement already satisfied: packaging in /Library/Frameworks/Python.framework/Versions/3.13/lib/python3.13/site-packages (from plotly) (24.1)\n",
      "Downloading plotly-6.0.1-py3-none-any.whl (14.8 MB)\n",
      "\u001b[2K   \u001b[90m━━━━━━━━━━━━━━━━━━━━━━━━━━━━━━━━━━━━━━━━\u001b[0m \u001b[32m14.8/14.8 MB\u001b[0m \u001b[31m21.7 MB/s\u001b[0m eta \u001b[36m0:00:00\u001b[0ma \u001b[36m0:00:01\u001b[0m\n",
      "\u001b[?25hDownloading narwhals-1.35.0-py3-none-any.whl (325 kB)\n",
      "Installing collected packages: narwhals, plotly\n"
     ]
    }
   ],
   "source": [
    "pip install plotly"
   ]
  },
  {
   "cell_type": "code",
   "execution_count": 1,
   "id": "3183a357",
   "metadata": {},
   "outputs": [],
   "source": [
    "import pandas as pd\n",
    "import plotly.graph_objects as go\n",
    "import numpy as np"
   ]
  },
  {
   "cell_type": "code",
   "execution_count": 13,
   "id": "f4897328",
   "metadata": {},
   "outputs": [],
   "source": [
    "\n",
    "day = 4\n",
    "df = pd.read_csv(f\"./round-5-island-data-bottle/observations_round_5_day_{day}.csv\", sep=\",\", header=0)"
   ]
  },
  {
   "cell_type": "code",
   "execution_count": 14,
   "id": "711f4b09",
   "metadata": {},
   "outputs": [
    {
     "data": {
      "text/html": [
       "<div>\n",
       "<style scoped>\n",
       "    .dataframe tbody tr th:only-of-type {\n",
       "        vertical-align: middle;\n",
       "    }\n",
       "\n",
       "    .dataframe tbody tr th {\n",
       "        vertical-align: top;\n",
       "    }\n",
       "\n",
       "    .dataframe thead th {\n",
       "        text-align: right;\n",
       "    }\n",
       "</style>\n",
       "<table border=\"1\" class=\"dataframe\">\n",
       "  <thead>\n",
       "    <tr style=\"text-align: right;\">\n",
       "      <th></th>\n",
       "      <th>timestamp</th>\n",
       "      <th>bidPrice</th>\n",
       "      <th>askPrice</th>\n",
       "      <th>transportFees</th>\n",
       "      <th>exportTariff</th>\n",
       "      <th>importTariff</th>\n",
       "      <th>sugarPrice</th>\n",
       "      <th>sunlightIndex</th>\n",
       "    </tr>\n",
       "  </thead>\n",
       "  <tbody>\n",
       "    <tr>\n",
       "      <th>0</th>\n",
       "      <td>0</td>\n",
       "      <td>798.5</td>\n",
       "      <td>800.0</td>\n",
       "      <td>1.7</td>\n",
       "      <td>9.5</td>\n",
       "      <td>-5.5</td>\n",
       "      <td>212.000000</td>\n",
       "      <td>55.00</td>\n",
       "    </tr>\n",
       "    <tr>\n",
       "      <th>1</th>\n",
       "      <td>100</td>\n",
       "      <td>792.0</td>\n",
       "      <td>793.5</td>\n",
       "      <td>1.7</td>\n",
       "      <td>9.5</td>\n",
       "      <td>-5.5</td>\n",
       "      <td>211.915751</td>\n",
       "      <td>55.00</td>\n",
       "    </tr>\n",
       "    <tr>\n",
       "      <th>2</th>\n",
       "      <td>200</td>\n",
       "      <td>790.0</td>\n",
       "      <td>791.5</td>\n",
       "      <td>1.7</td>\n",
       "      <td>9.5</td>\n",
       "      <td>-5.5</td>\n",
       "      <td>211.951508</td>\n",
       "      <td>55.01</td>\n",
       "    </tr>\n",
       "    <tr>\n",
       "      <th>3</th>\n",
       "      <td>300</td>\n",
       "      <td>788.0</td>\n",
       "      <td>789.5</td>\n",
       "      <td>1.7</td>\n",
       "      <td>9.5</td>\n",
       "      <td>-5.5</td>\n",
       "      <td>211.603936</td>\n",
       "      <td>55.02</td>\n",
       "    </tr>\n",
       "    <tr>\n",
       "      <th>4</th>\n",
       "      <td>400</td>\n",
       "      <td>783.5</td>\n",
       "      <td>785.0</td>\n",
       "      <td>1.7</td>\n",
       "      <td>9.5</td>\n",
       "      <td>-5.5</td>\n",
       "      <td>211.387838</td>\n",
       "      <td>55.02</td>\n",
       "    </tr>\n",
       "  </tbody>\n",
       "</table>\n",
       "</div>"
      ],
      "text/plain": [
       "   timestamp  bidPrice  askPrice  transportFees  exportTariff  importTariff  \\\n",
       "0          0     798.5     800.0            1.7           9.5          -5.5   \n",
       "1        100     792.0     793.5            1.7           9.5          -5.5   \n",
       "2        200     790.0     791.5            1.7           9.5          -5.5   \n",
       "3        300     788.0     789.5            1.7           9.5          -5.5   \n",
       "4        400     783.5     785.0            1.7           9.5          -5.5   \n",
       "\n",
       "   sugarPrice  sunlightIndex  \n",
       "0  212.000000          55.00  \n",
       "1  211.915751          55.00  \n",
       "2  211.951508          55.01  \n",
       "3  211.603936          55.02  \n",
       "4  211.387838          55.02  "
      ]
     },
     "execution_count": 14,
     "metadata": {},
     "output_type": "execute_result"
    }
   ],
   "source": [
    "df.head()"
   ]
  },
  {
   "cell_type": "code",
   "execution_count": 16,
   "id": "a49297e4",
   "metadata": {},
   "outputs": [],
   "source": [
    "df['midPrice'] = (df['bidPrice'] + df['askPrice'])/2"
   ]
  },
  {
   "cell_type": "code",
   "execution_count": 17,
   "id": "aacd6756",
   "metadata": {},
   "outputs": [],
   "source": [
    "df = df[['timestamp','midPrice','transportFees', 'exportTariff', 'importTariff','sugarPrice', 'sunlightIndex']]"
   ]
  },
  {
   "cell_type": "code",
   "execution_count": 18,
   "id": "3436ee19",
   "metadata": {},
   "outputs": [
    {
     "data": {
      "text/html": [
       "<div>\n",
       "<style scoped>\n",
       "    .dataframe tbody tr th:only-of-type {\n",
       "        vertical-align: middle;\n",
       "    }\n",
       "\n",
       "    .dataframe tbody tr th {\n",
       "        vertical-align: top;\n",
       "    }\n",
       "\n",
       "    .dataframe thead th {\n",
       "        text-align: right;\n",
       "    }\n",
       "</style>\n",
       "<table border=\"1\" class=\"dataframe\">\n",
       "  <thead>\n",
       "    <tr style=\"text-align: right;\">\n",
       "      <th></th>\n",
       "      <th>timestamp</th>\n",
       "      <th>midPrice</th>\n",
       "      <th>transportFees</th>\n",
       "      <th>exportTariff</th>\n",
       "      <th>importTariff</th>\n",
       "      <th>sugarPrice</th>\n",
       "      <th>sunlightIndex</th>\n",
       "    </tr>\n",
       "  </thead>\n",
       "  <tbody>\n",
       "    <tr>\n",
       "      <th>0</th>\n",
       "      <td>0</td>\n",
       "      <td>799.25</td>\n",
       "      <td>1.7</td>\n",
       "      <td>9.5</td>\n",
       "      <td>-5.5</td>\n",
       "      <td>212.000000</td>\n",
       "      <td>55.00</td>\n",
       "    </tr>\n",
       "    <tr>\n",
       "      <th>1</th>\n",
       "      <td>100</td>\n",
       "      <td>792.75</td>\n",
       "      <td>1.7</td>\n",
       "      <td>9.5</td>\n",
       "      <td>-5.5</td>\n",
       "      <td>211.915751</td>\n",
       "      <td>55.00</td>\n",
       "    </tr>\n",
       "    <tr>\n",
       "      <th>2</th>\n",
       "      <td>200</td>\n",
       "      <td>790.75</td>\n",
       "      <td>1.7</td>\n",
       "      <td>9.5</td>\n",
       "      <td>-5.5</td>\n",
       "      <td>211.951508</td>\n",
       "      <td>55.01</td>\n",
       "    </tr>\n",
       "    <tr>\n",
       "      <th>3</th>\n",
       "      <td>300</td>\n",
       "      <td>788.75</td>\n",
       "      <td>1.7</td>\n",
       "      <td>9.5</td>\n",
       "      <td>-5.5</td>\n",
       "      <td>211.603936</td>\n",
       "      <td>55.02</td>\n",
       "    </tr>\n",
       "    <tr>\n",
       "      <th>4</th>\n",
       "      <td>400</td>\n",
       "      <td>784.25</td>\n",
       "      <td>1.7</td>\n",
       "      <td>9.5</td>\n",
       "      <td>-5.5</td>\n",
       "      <td>211.387838</td>\n",
       "      <td>55.02</td>\n",
       "    </tr>\n",
       "  </tbody>\n",
       "</table>\n",
       "</div>"
      ],
      "text/plain": [
       "   timestamp  midPrice  transportFees  exportTariff  importTariff  sugarPrice  \\\n",
       "0          0    799.25            1.7           9.5          -5.5  212.000000   \n",
       "1        100    792.75            1.7           9.5          -5.5  211.915751   \n",
       "2        200    790.75            1.7           9.5          -5.5  211.951508   \n",
       "3        300    788.75            1.7           9.5          -5.5  211.603936   \n",
       "4        400    784.25            1.7           9.5          -5.5  211.387838   \n",
       "\n",
       "   sunlightIndex  \n",
       "0          55.00  \n",
       "1          55.00  \n",
       "2          55.01  \n",
       "3          55.02  \n",
       "4          55.02  "
      ]
     },
     "execution_count": 18,
     "metadata": {},
     "output_type": "execute_result"
    }
   ],
   "source": [
    "df.head()"
   ]
  },
  {
   "cell_type": "code",
   "execution_count": null,
   "id": "54912c30",
   "metadata": {},
   "outputs": [],
   "source": []
  }
 ],
 "metadata": {
  "kernelspec": {
   "display_name": "Python 3",
   "language": "python",
   "name": "python3"
  },
  "language_info": {
   "codemirror_mode": {
    "name": "ipython",
    "version": 3
   },
   "file_extension": ".py",
   "mimetype": "text/x-python",
   "name": "python",
   "nbconvert_exporter": "python",
   "pygments_lexer": "ipython3",
   "version": "3.13.0"
  }
 },
 "nbformat": 4,
 "nbformat_minor": 5
}
