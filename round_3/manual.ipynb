{
 "cells": [
  {
   "cell_type": "code",
   "execution_count": 1,
   "id": "5abc87c1-8846-4616-a78a-4ac04dea7971",
   "metadata": {},
   "outputs": [
    {
     "name": "stdout",
     "output_type": "stream",
     "text": [
      "→ Optimal b1=200.0000, b2=285.0000, O=54.7727\n"
     ]
    }
   ],
   "source": [
    "import numpy as np\n",
    "from scipy.optimize import minimize, differential_evolution\n",
    "# 1) piecewise CDF F\n",
    "def F(x):\n",
    "    \"\"\"\n",
    "    Vectorized: x can be scalar or array.\n",
    "    \"\"\"\n",
    "    x = np.asarray(x, dtype=float)\n",
    "    fx = np.zeros_like(x)\n",
    "\n",
    "    # piece 1: [160,200)\n",
    "    m1 = (x >= 160) & (x < 200)\n",
    "    fx[m1] = (x[m1] - 160) / 110\n",
    "\n",
    "    # piece 2: [200,250)\n",
    "    m2 = (x >= 200) & (x < 250)\n",
    "    fx[m2] = 40 / 110\n",
    "\n",
    "    # piece 3: [250,320]\n",
    "    m3 = (x >= 250) & (x <= 320)\n",
    "    # —— here we assume the intended formula is (x - 210)/110\n",
    "    fx[m3] = (x[m3] - 210) / 110\n",
    "\n",
    "    # outside: CDF flat\n",
    "    fx[x < 160] = 0.0\n",
    "    fx[x > 320] = 1.0\n",
    "\n",
    "    return fx\n",
    "\n",
    "# 2) our objective (we'll minimize its negative)\n",
    "def negO(vars):\n",
    "    b1, b2 = vars\n",
    "    # enforce 160 ≤ b1 ≤ b2 ≤ 320\n",
    "    if not (160 <= b1 <= b2 <= 320):\n",
    "        return 1e6\n",
    "    return - ( F(b1)*(b2 - b1) + F(b2)*(320 - b2) )\n",
    "\n",
    "# 3) a quick grid search to seed the local solver\n",
    "grid = np.linspace(160, 320, 161)\n",
    "B1, B2 = np.meshgrid(grid, grid)\n",
    "mask = B2 >= B1\n",
    "\n",
    "Ovals = F(B1)*(B2 - B1) + F(B2)*(320 - B2)\n",
    "Ovals[~mask] = -np.inf\n",
    "\n",
    "imax, jmax = np.unravel_index(np.nanargmax(Ovals), Ovals.shape)\n",
    "x0 = [B1[imax,jmax], B2[imax,jmax]]\n",
    "\n",
    "# 4) local refine via SLSQP (handles b2>=b1 constraint)\n",
    "cons = ({'type':'ineq', 'fun': lambda x: x[1]-x[0]})\n",
    "bnds = [(160,320),(160,320)]\n",
    "res_loc = minimize(negO, x0, method='SLSQP', bounds=bnds, constraints=cons)\n",
    "b1_loc, b2_loc = res_loc.x\n",
    "O_loc = -res_loc.fun\n",
    "\n",
    "# 5) (optional) global search via Differential Evolution\n",
    "res_glob = differential_evolution(negO, bounds=bnds, strategy='best1bin', maxiter=1000)\n",
    "b1_glob, b2_glob = res_glob.x\n",
    "O_glob = -res_glob.fun\n",
    "\n",
    "# 6) pick the best\n",
    "if O_glob > O_loc:\n",
    "    b1_opt, b2_opt, O_opt = b1_glob, b2_glob, O_glob\n",
    "else:\n",
    "    b1_opt, b2_opt, O_opt = b1_loc, b2_loc, O_loc\n",
    "\n",
    "print(f\"→ Optimal b1={b1_opt:.4f}, b2={b2_opt:.4f}, O={O_opt:.4f}\")\n"
   ]
  },
  {
   "cell_type": "code",
   "execution_count": null,
   "id": "96f3f429-d7cf-476d-946f-b54d17cdad2a",
   "metadata": {},
   "outputs": [],
   "source": []
  }
 ],
 "metadata": {
  "kernelspec": {
   "display_name": "Python 3 (ipykernel)",
   "language": "python",
   "name": "python3"
  },
  "language_info": {
   "codemirror_mode": {
    "name": "ipython",
    "version": 3
   },
   "file_extension": ".py",
   "mimetype": "text/x-python",
   "name": "python",
   "nbconvert_exporter": "python",
   "pygments_lexer": "ipython3",
   "version": "3.13.0"
  }
 },
 "nbformat": 4,
 "nbformat_minor": 5
}
